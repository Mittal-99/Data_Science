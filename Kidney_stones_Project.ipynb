{
 "cells": [
  {
   "cell_type": "markdown",
   "id": "2719a846",
   "metadata": {},
   "source": [
    "# DATASET OVERVIEW\n",
    "\n",
    "- The dataset contains 79 samples with 7 feature columns and 1 target column.\n",
    "\n",
    "- The feature columns are:\n",
    "    - 'gravity'- Urine specific gravity, Urine density relative to water, which indicates the concentration of dissolved substances.\n",
    "    \n",
    "    - 'ph'- Urine pH, A scale ranging from 1 to 14 that measures the acidity or alkalinity of an aqueous solution; 7 being neutral. \n",
    "    \n",
    "    - 'osmo'- Osmolality, the concentration of osmoles (particles that contribute to osmotic pressure) in a solution, expressed as milliosmoles per liter (mOsm/L) in biological systems.\n",
    "       \n",
    "    - 'cond' - Conductivity, a measure of a liquid's ability to conduct electricity, which depends on the number of ions per unit volume and their drift velocity.\n",
    "        \n",
    "    - 'urea' - Urea concentration in the urine, measured in millimoles per liter (mmol/L). \n",
    "    \n",
    "    - 'calc' - Calcium concentration in the urine, measured in millimoles per liter (mmol/L).\n",
    "\n",
    "- The 'target' column indicates if a kidney stone is present (1) or not (0). \n",
    "\n",
    "- With only 79 rows, this is a small dataset. The key predictive features are expected to be 'ph', 'calc', and possibly 'osmo' and 'cond' which are known urine markers for kidney stones.\n",
    "\n",
    "- This dataset can be used to train and evaluate small machine learning models to predict if a patient has kidney stones based on urine test results.\n",
    "\n",
    "- The goal remains to predict if a patient has kidney stones based on urine test metrics.\n"
   ]
  },
  {
   "cell_type": "code",
   "execution_count": 1,
   "id": "9676f1e1",
   "metadata": {},
   "outputs": [],
   "source": [
    "# Importing Liberaries and datset"
   ]
  },
  {
   "cell_type": "code",
   "execution_count": 2,
   "id": "6303816e",
   "metadata": {},
   "outputs": [
    {
     "name": "stderr",
     "output_type": "stream",
     "text": [
      "C:\\Users\\akash\\anaconda3\\lib\\site-packages\\scipy\\__init__.py:155: UserWarning: A NumPy version >=1.18.5 and <1.25.0 is required for this version of SciPy (detected version 1.25.0\n",
      "  warnings.warn(f\"A NumPy version >={np_minversion} and <{np_maxversion}\"\n"
     ]
    }
   ],
   "source": [
    "import pandas as pd\n",
    "import numpy as np\n",
    "import matplotlib.pyplot as plt\n",
    "import seaborn as sns\n",
    "\n",
    "from sklearn.model_selection import train_test_split\n",
    "from sklearn.linear_model import LogisticRegression\n",
    "from sklearn.tree import DecisionTreeClassifier\n",
    "from sklearn.ensemble import RandomForestClassifier\n",
    "from xgboost import XGBClassifier\n",
    "import xgboost as xgb\n",
    "from sklearn.metrics import accuracy_score, precision_score, recall_score, f1_score,classification_report, confusion_matrix\n",
    "from sklearn.preprocessing import StandardScaler\n"
   ]
  },
  {
   "cell_type": "code",
   "execution_count": 3,
   "id": "dde14734",
   "metadata": {},
   "outputs": [],
   "source": [
    "df = pd.read_csv('kindey stone urine analysis.csv')"
   ]
  },
  {
   "cell_type": "code",
   "execution_count": 4,
   "id": "5717bddb",
   "metadata": {},
   "outputs": [
    {
     "data": {
      "text/html": [
       "<div>\n",
       "<style scoped>\n",
       "    .dataframe tbody tr th:only-of-type {\n",
       "        vertical-align: middle;\n",
       "    }\n",
       "\n",
       "    .dataframe tbody tr th {\n",
       "        vertical-align: top;\n",
       "    }\n",
       "\n",
       "    .dataframe thead th {\n",
       "        text-align: right;\n",
       "    }\n",
       "</style>\n",
       "<table border=\"1\" class=\"dataframe\">\n",
       "  <thead>\n",
       "    <tr style=\"text-align: right;\">\n",
       "      <th></th>\n",
       "      <th>gravity</th>\n",
       "      <th>ph</th>\n",
       "      <th>osmo</th>\n",
       "      <th>cond</th>\n",
       "      <th>urea</th>\n",
       "      <th>calc</th>\n",
       "      <th>target</th>\n",
       "    </tr>\n",
       "  </thead>\n",
       "  <tbody>\n",
       "    <tr>\n",
       "      <th>0</th>\n",
       "      <td>1.021</td>\n",
       "      <td>4.91</td>\n",
       "      <td>725</td>\n",
       "      <td>14.0</td>\n",
       "      <td>443</td>\n",
       "      <td>2.45</td>\n",
       "      <td>0</td>\n",
       "    </tr>\n",
       "    <tr>\n",
       "      <th>1</th>\n",
       "      <td>1.017</td>\n",
       "      <td>5.74</td>\n",
       "      <td>577</td>\n",
       "      <td>20.0</td>\n",
       "      <td>296</td>\n",
       "      <td>4.49</td>\n",
       "      <td>0</td>\n",
       "    </tr>\n",
       "    <tr>\n",
       "      <th>2</th>\n",
       "      <td>1.008</td>\n",
       "      <td>7.20</td>\n",
       "      <td>321</td>\n",
       "      <td>14.9</td>\n",
       "      <td>101</td>\n",
       "      <td>2.36</td>\n",
       "      <td>0</td>\n",
       "    </tr>\n",
       "    <tr>\n",
       "      <th>3</th>\n",
       "      <td>1.011</td>\n",
       "      <td>5.51</td>\n",
       "      <td>408</td>\n",
       "      <td>12.6</td>\n",
       "      <td>224</td>\n",
       "      <td>2.15</td>\n",
       "      <td>0</td>\n",
       "    </tr>\n",
       "    <tr>\n",
       "      <th>4</th>\n",
       "      <td>1.005</td>\n",
       "      <td>6.52</td>\n",
       "      <td>187</td>\n",
       "      <td>7.5</td>\n",
       "      <td>91</td>\n",
       "      <td>1.16</td>\n",
       "      <td>0</td>\n",
       "    </tr>\n",
       "  </tbody>\n",
       "</table>\n",
       "</div>"
      ],
      "text/plain": [
       "   gravity    ph  osmo  cond  urea  calc  target\n",
       "0    1.021  4.91   725  14.0   443  2.45       0\n",
       "1    1.017  5.74   577  20.0   296  4.49       0\n",
       "2    1.008  7.20   321  14.9   101  2.36       0\n",
       "3    1.011  5.51   408  12.6   224  2.15       0\n",
       "4    1.005  6.52   187   7.5    91  1.16       0"
      ]
     },
     "execution_count": 4,
     "metadata": {},
     "output_type": "execute_result"
    }
   ],
   "source": [
    "df.head() "
   ]
  },
  {
   "cell_type": "code",
   "execution_count": 5,
   "id": "fac6c924",
   "metadata": {},
   "outputs": [
    {
     "data": {
      "text/html": [
       "<div>\n",
       "<style scoped>\n",
       "    .dataframe tbody tr th:only-of-type {\n",
       "        vertical-align: middle;\n",
       "    }\n",
       "\n",
       "    .dataframe tbody tr th {\n",
       "        vertical-align: top;\n",
       "    }\n",
       "\n",
       "    .dataframe thead th {\n",
       "        text-align: right;\n",
       "    }\n",
       "</style>\n",
       "<table border=\"1\" class=\"dataframe\">\n",
       "  <thead>\n",
       "    <tr style=\"text-align: right;\">\n",
       "      <th></th>\n",
       "      <th>gravity</th>\n",
       "      <th>ph</th>\n",
       "      <th>osmo</th>\n",
       "      <th>cond</th>\n",
       "      <th>urea</th>\n",
       "      <th>calc</th>\n",
       "      <th>target</th>\n",
       "    </tr>\n",
       "  </thead>\n",
       "  <tbody>\n",
       "    <tr>\n",
       "      <th>74</th>\n",
       "      <td>1.025</td>\n",
       "      <td>7.90</td>\n",
       "      <td>721</td>\n",
       "      <td>23.6</td>\n",
       "      <td>301</td>\n",
       "      <td>9.04</td>\n",
       "      <td>1</td>\n",
       "    </tr>\n",
       "    <tr>\n",
       "      <th>75</th>\n",
       "      <td>1.017</td>\n",
       "      <td>4.81</td>\n",
       "      <td>410</td>\n",
       "      <td>13.3</td>\n",
       "      <td>195</td>\n",
       "      <td>0.58</td>\n",
       "      <td>1</td>\n",
       "    </tr>\n",
       "    <tr>\n",
       "      <th>76</th>\n",
       "      <td>1.024</td>\n",
       "      <td>5.40</td>\n",
       "      <td>803</td>\n",
       "      <td>21.8</td>\n",
       "      <td>394</td>\n",
       "      <td>7.82</td>\n",
       "      <td>1</td>\n",
       "    </tr>\n",
       "    <tr>\n",
       "      <th>77</th>\n",
       "      <td>1.016</td>\n",
       "      <td>6.81</td>\n",
       "      <td>594</td>\n",
       "      <td>21.4</td>\n",
       "      <td>255</td>\n",
       "      <td>12.20</td>\n",
       "      <td>1</td>\n",
       "    </tr>\n",
       "    <tr>\n",
       "      <th>78</th>\n",
       "      <td>1.015</td>\n",
       "      <td>6.03</td>\n",
       "      <td>416</td>\n",
       "      <td>12.8</td>\n",
       "      <td>178</td>\n",
       "      <td>9.39</td>\n",
       "      <td>1</td>\n",
       "    </tr>\n",
       "  </tbody>\n",
       "</table>\n",
       "</div>"
      ],
      "text/plain": [
       "    gravity    ph  osmo  cond  urea   calc  target\n",
       "74    1.025  7.90   721  23.6   301   9.04       1\n",
       "75    1.017  4.81   410  13.3   195   0.58       1\n",
       "76    1.024  5.40   803  21.8   394   7.82       1\n",
       "77    1.016  6.81   594  21.4   255  12.20       1\n",
       "78    1.015  6.03   416  12.8   178   9.39       1"
      ]
     },
     "execution_count": 5,
     "metadata": {},
     "output_type": "execute_result"
    }
   ],
   "source": [
    "df.tail()"
   ]
  },
  {
   "cell_type": "markdown",
   "id": "1f03a88c",
   "metadata": {},
   "source": [
    "## EDA and Data Cleaning"
   ]
  },
  {
   "cell_type": "code",
   "execution_count": 6,
   "id": "d1a6ccc3",
   "metadata": {},
   "outputs": [
    {
     "data": {
      "text/plain": [
       "(79, 7)"
      ]
     },
     "execution_count": 6,
     "metadata": {},
     "output_type": "execute_result"
    }
   ],
   "source": [
    "df.shape"
   ]
  },
  {
   "cell_type": "code",
   "execution_count": 7,
   "id": "8de650c1",
   "metadata": {},
   "outputs": [
    {
     "data": {
      "text/plain": [
       "Index(['gravity', 'ph', 'osmo', 'cond', 'urea', 'calc', 'target'], dtype='object')"
      ]
     },
     "execution_count": 7,
     "metadata": {},
     "output_type": "execute_result"
    }
   ],
   "source": [
    "df.columns"
   ]
  },
  {
   "cell_type": "code",
   "execution_count": 8,
   "id": "cefa19df",
   "metadata": {},
   "outputs": [
    {
     "name": "stdout",
     "output_type": "stream",
     "text": [
      "<class 'pandas.core.frame.DataFrame'>\n",
      "RangeIndex: 79 entries, 0 to 78\n",
      "Data columns (total 7 columns):\n",
      " #   Column   Non-Null Count  Dtype  \n",
      "---  ------   --------------  -----  \n",
      " 0   gravity  79 non-null     float64\n",
      " 1   ph       79 non-null     float64\n",
      " 2   osmo     79 non-null     int64  \n",
      " 3   cond     79 non-null     float64\n",
      " 4   urea     79 non-null     int64  \n",
      " 5   calc     79 non-null     float64\n",
      " 6   target   79 non-null     int64  \n",
      "dtypes: float64(4), int64(3)\n",
      "memory usage: 4.4 KB\n"
     ]
    }
   ],
   "source": [
    "df.info()"
   ]
  },
  {
   "cell_type": "code",
   "execution_count": 9,
   "id": "f201cddf",
   "metadata": {},
   "outputs": [
    {
     "data": {
      "text/html": [
       "<div>\n",
       "<style scoped>\n",
       "    .dataframe tbody tr th:only-of-type {\n",
       "        vertical-align: middle;\n",
       "    }\n",
       "\n",
       "    .dataframe tbody tr th {\n",
       "        vertical-align: top;\n",
       "    }\n",
       "\n",
       "    .dataframe thead th {\n",
       "        text-align: right;\n",
       "    }\n",
       "</style>\n",
       "<table border=\"1\" class=\"dataframe\">\n",
       "  <thead>\n",
       "    <tr style=\"text-align: right;\">\n",
       "      <th></th>\n",
       "      <th>gravity</th>\n",
       "      <th>ph</th>\n",
       "      <th>osmo</th>\n",
       "      <th>cond</th>\n",
       "      <th>urea</th>\n",
       "      <th>calc</th>\n",
       "      <th>target</th>\n",
       "    </tr>\n",
       "  </thead>\n",
       "  <tbody>\n",
       "    <tr>\n",
       "      <th>count</th>\n",
       "      <td>79.000000</td>\n",
       "      <td>79.000000</td>\n",
       "      <td>79.000000</td>\n",
       "      <td>79.000000</td>\n",
       "      <td>79.000000</td>\n",
       "      <td>79.000000</td>\n",
       "      <td>79.000000</td>\n",
       "    </tr>\n",
       "    <tr>\n",
       "      <th>mean</th>\n",
       "      <td>1.018114</td>\n",
       "      <td>6.028481</td>\n",
       "      <td>612.848101</td>\n",
       "      <td>20.813924</td>\n",
       "      <td>266.405063</td>\n",
       "      <td>4.138987</td>\n",
       "      <td>0.430380</td>\n",
       "    </tr>\n",
       "    <tr>\n",
       "      <th>std</th>\n",
       "      <td>0.007239</td>\n",
       "      <td>0.724307</td>\n",
       "      <td>237.514755</td>\n",
       "      <td>7.938994</td>\n",
       "      <td>131.254550</td>\n",
       "      <td>3.260051</td>\n",
       "      <td>0.498293</td>\n",
       "    </tr>\n",
       "    <tr>\n",
       "      <th>min</th>\n",
       "      <td>1.005000</td>\n",
       "      <td>4.760000</td>\n",
       "      <td>187.000000</td>\n",
       "      <td>5.100000</td>\n",
       "      <td>10.000000</td>\n",
       "      <td>0.170000</td>\n",
       "      <td>0.000000</td>\n",
       "    </tr>\n",
       "    <tr>\n",
       "      <th>25%</th>\n",
       "      <td>1.012000</td>\n",
       "      <td>5.530000</td>\n",
       "      <td>413.000000</td>\n",
       "      <td>14.150000</td>\n",
       "      <td>160.000000</td>\n",
       "      <td>1.460000</td>\n",
       "      <td>0.000000</td>\n",
       "    </tr>\n",
       "    <tr>\n",
       "      <th>50%</th>\n",
       "      <td>1.018000</td>\n",
       "      <td>5.940000</td>\n",
       "      <td>594.000000</td>\n",
       "      <td>21.400000</td>\n",
       "      <td>260.000000</td>\n",
       "      <td>3.160000</td>\n",
       "      <td>0.000000</td>\n",
       "    </tr>\n",
       "    <tr>\n",
       "      <th>75%</th>\n",
       "      <td>1.023500</td>\n",
       "      <td>6.385000</td>\n",
       "      <td>792.000000</td>\n",
       "      <td>26.550000</td>\n",
       "      <td>372.000000</td>\n",
       "      <td>5.930000</td>\n",
       "      <td>1.000000</td>\n",
       "    </tr>\n",
       "    <tr>\n",
       "      <th>max</th>\n",
       "      <td>1.040000</td>\n",
       "      <td>7.940000</td>\n",
       "      <td>1236.000000</td>\n",
       "      <td>38.000000</td>\n",
       "      <td>620.000000</td>\n",
       "      <td>14.340000</td>\n",
       "      <td>1.000000</td>\n",
       "    </tr>\n",
       "  </tbody>\n",
       "</table>\n",
       "</div>"
      ],
      "text/plain": [
       "         gravity         ph         osmo       cond        urea       calc  \\\n",
       "count  79.000000  79.000000    79.000000  79.000000   79.000000  79.000000   \n",
       "mean    1.018114   6.028481   612.848101  20.813924  266.405063   4.138987   \n",
       "std     0.007239   0.724307   237.514755   7.938994  131.254550   3.260051   \n",
       "min     1.005000   4.760000   187.000000   5.100000   10.000000   0.170000   \n",
       "25%     1.012000   5.530000   413.000000  14.150000  160.000000   1.460000   \n",
       "50%     1.018000   5.940000   594.000000  21.400000  260.000000   3.160000   \n",
       "75%     1.023500   6.385000   792.000000  26.550000  372.000000   5.930000   \n",
       "max     1.040000   7.940000  1236.000000  38.000000  620.000000  14.340000   \n",
       "\n",
       "          target  \n",
       "count  79.000000  \n",
       "mean    0.430380  \n",
       "std     0.498293  \n",
       "min     0.000000  \n",
       "25%     0.000000  \n",
       "50%     0.000000  \n",
       "75%     1.000000  \n",
       "max     1.000000  "
      ]
     },
     "execution_count": 9,
     "metadata": {},
     "output_type": "execute_result"
    }
   ],
   "source": [
    "df.describe()"
   ]
  },
  {
   "cell_type": "code",
   "execution_count": 10,
   "id": "6a4c525f",
   "metadata": {},
   "outputs": [
    {
     "data": {
      "text/plain": [
       "0"
      ]
     },
     "execution_count": 10,
     "metadata": {},
     "output_type": "execute_result"
    }
   ],
   "source": [
    "df.duplicated().sum()"
   ]
  },
  {
   "cell_type": "code",
   "execution_count": 11,
   "id": "0a9c560d",
   "metadata": {},
   "outputs": [
    {
     "data": {
      "text/plain": [
       "gravity    0\n",
       "ph         0\n",
       "osmo       0\n",
       "cond       0\n",
       "urea       0\n",
       "calc       0\n",
       "target     0\n",
       "dtype: int64"
      ]
     },
     "execution_count": 11,
     "metadata": {},
     "output_type": "execute_result"
    }
   ],
   "source": [
    "df.isna().sum()"
   ]
  },
  {
   "cell_type": "code",
   "execution_count": 12,
   "id": "37303059",
   "metadata": {},
   "outputs": [
    {
     "data": {
      "text/plain": [
       "gravity    29\n",
       "ph         70\n",
       "osmo       77\n",
       "cond       64\n",
       "urea       73\n",
       "calc       75\n",
       "target      2\n",
       "dtype: int64"
      ]
     },
     "execution_count": 12,
     "metadata": {},
     "output_type": "execute_result"
    }
   ],
   "source": [
    "df.nunique()"
   ]
  },
  {
   "cell_type": "code",
   "execution_count": 13,
   "id": "38c82150",
   "metadata": {},
   "outputs": [
    {
     "data": {
      "image/png": "[encoded data removed]",
      "text/plain": [
       "<Figure size 1000x600 with 1 Axes>"
      ]
     },
     "metadata": {},
     "output_type": "display_data"
    }
   ],
   "source": [
    "target_counts = df['target'].value_counts(normalize=True)\n",
    "\n",
    "ax = target_counts.plot(kind='bar', stacked=True, figsize=(10, 6))\n",
    "\n",
    "ax.set_xlabel('Target', fontsize=16)\n",
    "ax.set_ylabel('Proportion', fontsize=16)\n",
    "ax.set_title('Proportion of Kidney Stone Presence', fontsize=16)\n",
    "plt.xticks(ticks=[0, 1], labels=['0', '1'], rotation=0, fontsize=14)\n",
    "plt.yticks(fontsize=12)\n",
    "\n",
    "for i, v in enumerate(target_counts):\n",
    "    ax.text(i - 0.1, v + 0.01, f'{v:.2f}', fontsize=10, color='black')\n",
    "\n",
    "plt.show()"
   ]
  },
  {
   "cell_type": "markdown",
   "id": "6aabd85e",
   "metadata": {},
   "source": [
    "## Finding Outliers\n",
    "we can find outliers by two ways:\n",
    "\n",
    "### 1. Boxplot:\n",
    "The box in a boxplot represents the interquartile range (IQR) between Q1 and Q3. The line inside the box indicates the median. The whiskers extend from the box to the minimum and maximum values. Any points outside the whiskers are considered outliers."
   ]
  },
  {
   "cell_type": "code",
   "execution_count": 14,
   "id": "b27b22e6",
   "metadata": {},
   "outputs": [
    {
     "data": {
      "image/png": "[encoded data removed]",
      "text/plain": [
       "<Figure size 1500x500 with 7 Axes>"
      ]
     },
     "metadata": {},
     "output_type": "display_data"
    }
   ],
   "source": [
    "# Create boxplots\n",
    "fig, axs = plt.subplots(1, 7, figsize=(15, 5))\n",
    "for i, col in enumerate(df.columns):\n",
    "    axs[i].boxplot(df[col])\n",
    "    axs[i].set_title(col)\n",
    "    \n",
    "plt.tight_layout()\n",
    "plt.show()"
   ]
  },
  {
   "cell_type": "markdown",
   "id": "6c39512c",
   "metadata": {},
   "source": [
    "#### Insights\n",
    "- As we can see there are very less outliers in ph,and calc column which does not affect on the dataset."
   ]
  },
  {
   "cell_type": "markdown",
   "id": "0056d49c",
   "metadata": {},
   "source": [
    "### 2. z- score:\n",
    "z-scores allow us to compare observations in terms of how far from average they are on each feature.They put the variables on a common scale. Observations with z-scores > 2 or < -2 could be considered outliers on that feature."
   ]
  },
  {
   "cell_type": "code",
   "execution_count": 15,
   "id": "d586684f",
   "metadata": {},
   "outputs": [
    {
     "name": "stdout",
     "output_type": "stream",
     "text": [
      "    gravity        ph      osmo      cond      urea      calc    target\n",
      "0  0.398658 -1.544208  0.472189 -0.858286  1.345439 -0.518086 -0.863708\n",
      "1 -0.153868 -0.398286 -0.150930 -0.102522  0.225477  0.107671 -0.863708\n",
      "2 -1.397053  1.617434 -1.228758 -0.744921 -1.260185 -0.545693 -0.863708\n",
      "3 -0.982658 -0.715830 -0.862465 -1.034630 -0.323075 -0.610109 -0.863708\n",
      "4 -1.811448  0.678606 -1.792933 -1.677029 -1.336373 -0.913785 -0.863708\n"
     ]
    }
   ],
   "source": [
    "# Z-scores\n",
    "df_std = df.copy()\n",
    "for col in df.columns:\n",
    "    df_std[col] = (df[col] - df[col].mean()) / df[col].std()\n",
    "    \n",
    "print(df_std.head())"
   ]
  },
  {
   "cell_type": "markdown",
   "id": "7f2d0b3e",
   "metadata": {},
   "source": [
    "#### Insights\n",
    "- The 1st observation has a very high urea z-score (1.345). This means its urea value is 1.345 standard deviations above the mean urea. So it has a relatively high urea level.\n",
    "\n",
    "- The 2nd observation has z-scores close to 0 for all variables. This means its values are close to the average for each feature.\n",
    "\n",
    "- The 3rd observation has a very low gravity z-score (-1.397) and osmo z-score (-1.229). So it has unusually low gravity and osmo.\n",
    "\n",
    "- All the target z-scores are identical (-0.864). This suggests there is no variability in the target variable. Its standard deviation is likely 0.\n"
   ]
  },
  {
   "cell_type": "markdown",
   "id": "96fe7547",
   "metadata": {},
   "source": [
    "# Treating Outliers"
   ]
  },
  {
   "cell_type": "code",
   "execution_count": 27,
   "id": "899d6006",
   "metadata": {},
   "outputs": [],
   "source": [
    "columns_with_outliers = ['ph', 'calc']  \n",
    "\n",
    "# Function to treat outliers using IQR method\n",
    "def treat_outliers_iqr(df, column):\n",
    "    Q1 = df[column].quantile(0.25)\n",
    "    Q3 = df[column].quantile(0.75)\n",
    "    IQR = Q3 - Q1\n",
    "    \n",
    "    lower_bound = Q1 - 1.5 * IQR\n",
    "    upper_bound = Q3 + 1.5 * IQR\n",
    "    \n",
    "    # Replace outliers with the nearest bound\n",
    "    df[column] = df[column].apply(lambda x: lower_bound if x < lower_bound else (upper_bound if x > upper_bound else x))\n",
    "    \n",
    "    return df\n",
    "\n",
    "# Loop through the specified columns and treat outliers\n",
    "for column in columns_with_outliers:\n",
    "    df1 = treat_outliers_iqr(df, column)"
   ]
  },
  {
   "cell_type": "code",
   "execution_count": 32,
   "id": "7fefbe5f",
   "metadata": {
    "scrolled": false
   },
   "outputs": [
    {
     "data": {
      "image/png": "[encoded data removed]",
      "text/plain": [
       "<Figure size 800x600 with 1 Axes>"
      ]
     },
     "metadata": {},
     "output_type": "display_data"
    }
   ],
   "source": [
    "# Plot box plot after removing outliers for specified columns\n",
    "plt.figure(figsize=(8, 6))\n",
    "df1[columns_with_outliers].boxplot()\n",
    "plt.title('Box Plot After Removing Outliers')\n",
    "plt.ylabel('Values')\n",
    "plt.xlabel('Columns')\n",
    "plt.show()"
   ]
  },
  {
   "cell_type": "markdown",
   "id": "b78ecb7d",
   "metadata": {},
   "source": [
    "## Correlation b/w variables"
   ]
  },
  {
   "cell_type": "code",
   "execution_count": 33,
   "id": "ac583882",
   "metadata": {},
   "outputs": [
    {
     "data": {
      "text/html": [
       "<div>\n",
       "<style scoped>\n",
       "    .dataframe tbody tr th:only-of-type {\n",
       "        vertical-align: middle;\n",
       "    }\n",
       "\n",
       "    .dataframe tbody tr th {\n",
       "        vertical-align: top;\n",
       "    }\n",
       "\n",
       "    .dataframe thead th {\n",
       "        text-align: right;\n",
       "    }\n",
       "</style>\n",
       "<table border=\"1\" class=\"dataframe\">\n",
       "  <thead>\n",
       "    <tr style=\"text-align: right;\">\n",
       "      <th></th>\n",
       "      <th>gravity</th>\n",
       "      <th>ph</th>\n",
       "      <th>osmo</th>\n",
       "      <th>cond</th>\n",
       "      <th>urea</th>\n",
       "      <th>calc</th>\n",
       "      <th>target</th>\n",
       "    </tr>\n",
       "  </thead>\n",
       "  <tbody>\n",
       "    <tr>\n",
       "      <th>gravity</th>\n",
       "      <td>1.000000</td>\n",
       "      <td>-0.266714</td>\n",
       "      <td>0.861466</td>\n",
       "      <td>0.559064</td>\n",
       "      <td>0.823477</td>\n",
       "      <td>0.529456</td>\n",
       "      <td>0.419818</td>\n",
       "    </tr>\n",
       "    <tr>\n",
       "      <th>ph</th>\n",
       "      <td>-0.266714</td>\n",
       "      <td>1.000000</td>\n",
       "      <td>-0.249359</td>\n",
       "      <td>-0.104454</td>\n",
       "      <td>-0.284662</td>\n",
       "      <td>-0.123746</td>\n",
       "      <td>-0.122637</td>\n",
       "    </tr>\n",
       "    <tr>\n",
       "      <th>osmo</th>\n",
       "      <td>0.861466</td>\n",
       "      <td>-0.249359</td>\n",
       "      <td>1.000000</td>\n",
       "      <td>0.812780</td>\n",
       "      <td>0.871178</td>\n",
       "      <td>0.528694</td>\n",
       "      <td>0.231834</td>\n",
       "    </tr>\n",
       "    <tr>\n",
       "      <th>cond</th>\n",
       "      <td>0.559064</td>\n",
       "      <td>-0.104454</td>\n",
       "      <td>0.812780</td>\n",
       "      <td>1.000000</td>\n",
       "      <td>0.495405</td>\n",
       "      <td>0.355207</td>\n",
       "      <td>0.059717</td>\n",
       "    </tr>\n",
       "    <tr>\n",
       "      <th>urea</th>\n",
       "      <td>0.823477</td>\n",
       "      <td>-0.284662</td>\n",
       "      <td>0.871178</td>\n",
       "      <td>0.495405</td>\n",
       "      <td>1.000000</td>\n",
       "      <td>0.511309</td>\n",
       "      <td>0.258402</td>\n",
       "    </tr>\n",
       "    <tr>\n",
       "      <th>calc</th>\n",
       "      <td>0.529456</td>\n",
       "      <td>-0.123746</td>\n",
       "      <td>0.528694</td>\n",
       "      <td>0.355207</td>\n",
       "      <td>0.511309</td>\n",
       "      <td>1.000000</td>\n",
       "      <td>0.541114</td>\n",
       "    </tr>\n",
       "    <tr>\n",
       "      <th>target</th>\n",
       "      <td>0.419818</td>\n",
       "      <td>-0.122637</td>\n",
       "      <td>0.231834</td>\n",
       "      <td>0.059717</td>\n",
       "      <td>0.258402</td>\n",
       "      <td>0.541114</td>\n",
       "      <td>1.000000</td>\n",
       "    </tr>\n",
       "  </tbody>\n",
       "</table>\n",
       "</div>"
      ],
      "text/plain": [
       "          gravity        ph      osmo      cond      urea      calc    target\n",
       "gravity  1.000000 -0.266714  0.861466  0.559064  0.823477  0.529456  0.419818\n",
       "ph      -0.266714  1.000000 -0.249359 -0.104454 -0.284662 -0.123746 -0.122637\n",
       "osmo     0.861466 -0.249359  1.000000  0.812780  0.871178  0.528694  0.231834\n",
       "cond     0.559064 -0.104454  0.812780  1.000000  0.495405  0.355207  0.059717\n",
       "urea     0.823477 -0.284662  0.871178  0.495405  1.000000  0.511309  0.258402\n",
       "calc     0.529456 -0.123746  0.528694  0.355207  0.511309  1.000000  0.541114\n",
       "target   0.419818 -0.122637  0.231834  0.059717  0.258402  0.541114  1.000000"
      ]
     },
     "execution_count": 33,
     "metadata": {},
     "output_type": "execute_result"
    }
   ],
   "source": [
    "df.corr()"
   ]
  },
  {
   "cell_type": "code",
   "execution_count": 34,
   "id": "39566489",
   "metadata": {
    "scrolled": false
   },
   "outputs": [
    {
     "data": {
      "text/plain": [
       "<AxesSubplot:>"
      ]
     },
     "execution_count": 34,
     "metadata": {},
     "output_type": "execute_result"
    },
    {
     "data": {
      "image/png": "[encoded data removed]",
      "text/plain": [
       "<Figure size 640x480 with 2 Axes>"
      ]
     },
     "metadata": {},
     "output_type": "display_data"
    }
   ],
   "source": [
    "# Creating correlation heatmap\n",
    "\n",
    "sns.heatmap(df.corr(),annot=True)"
   ]
  },
  {
   "cell_type": "markdown",
   "id": "9987961f",
   "metadata": {},
   "source": [
    "#### Insights\n",
    "- There is a strong positive correlation between gravity and osmo (0.86). As gravity increases, osmo also tends to increase.\n",
    "- Urea is positively correlated with gravity (0.82) and osmo (0.87). So urea levels also increase as gravity and osmo increase.\n",
    "- Target has a moderate positive correlation with Ca (0.54). Higher Ca values tend to be associated with higher target values.\n",
    "- Target has a weak negative correlation with ph (-0.12). Lower pH is slightly associated with higher target.\n",
    "- Target has very little correlation with cond (0.06). These two variables seem to be unrelated."
   ]
  },
  {
   "cell_type": "markdown",
   "id": "f0811915",
   "metadata": {},
   "source": [
    "## Splitting dataset into training and testing"
   ]
  },
  {
   "cell_type": "code",
   "execution_count": 35,
   "id": "05142d77",
   "metadata": {},
   "outputs": [],
   "source": [
    "X = df.drop(columns=['target'])  \n",
    "y = df['target']"
   ]
  },
  {
   "cell_type": "code",
   "execution_count": 36,
   "id": "3f4d952f",
   "metadata": {},
   "outputs": [],
   "source": [
    "X_train, X_test, y_train, y_test = train_test_split(X, y, test_size=0.2, random_state=42)"
   ]
  },
  {
   "cell_type": "markdown",
   "id": "676c4d8a",
   "metadata": {},
   "source": [
    "## Model Building "
   ]
  },
  {
   "cell_type": "code",
   "execution_count": 39,
   "id": "538b4d53",
   "metadata": {},
   "outputs": [
    {
     "name": "stdout",
     "output_type": "stream",
     "text": [
      "Logistic regression Accuracy: 0.6875\n",
      "Classification Report:\n",
      "              precision    recall  f1-score   support\n",
      "\n",
      "           0       0.80      0.73      0.76        11\n",
      "           1       0.50      0.60      0.55         5\n",
      "\n",
      "    accuracy                           0.69        16\n",
      "   macro avg       0.65      0.66      0.65        16\n",
      "weighted avg       0.71      0.69      0.69        16\n",
      "\n"
     ]
    }
   ],
   "source": [
    "# Model 1: Logistic Regression\n",
    "logreg_model = LogisticRegression(random_state=42)\n",
    "logreg_model.fit(X_train, y_train)\n",
    "\n",
    "# Predictions\n",
    "logreg_predictions = logreg_model.predict(X_test)\n",
    "\n",
    "# Evaluate Random Forest model\n",
    "logreg_accuracy = accuracy_score(y_test, logreg_predictions)\n",
    "print(\"Logistic regression Accuracy:\", logreg_accuracy)\n",
    "print(\"Classification Report:\")\n",
    "print(classification_report(y_test, logreg_predictions))"
   ]
  },
  {
   "cell_type": "code",
   "execution_count": 40,
   "id": "7fac7596",
   "metadata": {},
   "outputs": [
    {
     "name": "stdout",
     "output_type": "stream",
     "text": [
      "Random Forest Classifier Accuracy: 0.8125\n",
      "Classification Report:\n",
      "              precision    recall  f1-score   support\n",
      "\n",
      "           0       0.83      0.91      0.87        11\n",
      "           1       0.75      0.60      0.67         5\n",
      "\n",
      "    accuracy                           0.81        16\n",
      "   macro avg       0.79      0.75      0.77        16\n",
      "weighted avg       0.81      0.81      0.81        16\n",
      "\n"
     ]
    }
   ],
   "source": [
    "# Model 2: Random Forest Classifier\n",
    "random_forest_model = RandomForestClassifier(random_state=42)\n",
    "random_forest_model.fit(X_train, y_train)\n",
    "\n",
    "# Predictions\n",
    "random_forest_predictions = random_forest_model.predict(X_test)\n",
    "\n",
    "# Evaluate Random Forest model\n",
    "random_forest_accuracy = accuracy_score(y_test, random_forest_predictions)\n",
    "print(\"Random Forest Classifier Accuracy:\", random_forest_accuracy)\n",
    "print(\"Classification Report:\")\n",
    "print(classification_report(y_test, random_forest_predictions))"
   ]
  },
  {
   "cell_type": "code",
   "execution_count": 41,
   "id": "97581b17",
   "metadata": {},
   "outputs": [
    {
     "name": "stdout",
     "output_type": "stream",
     "text": [
      "XGBoost Classifier Accuracy: 0.625\n",
      "Classification Report:\n",
      "              precision    recall  f1-score   support\n",
      "\n",
      "           0       0.73      0.73      0.73        11\n",
      "           1       0.40      0.40      0.40         5\n",
      "\n",
      "    accuracy                           0.62        16\n",
      "   macro avg       0.56      0.56      0.56        16\n",
      "weighted avg       0.62      0.62      0.62        16\n",
      "\n"
     ]
    }
   ],
   "source": [
    "# Model 3: XGBoost Classifier\n",
    "xgb_model = xgb.XGBClassifier(random_state=42)\n",
    "xgb_model.fit(X_train, y_train)\n",
    "\n",
    "# Predictions\n",
    "xgb_predictions = xgb_model.predict(X_test)\n",
    "\n",
    "# Evaluate XGBoost model\n",
    "xgb_accuracy = accuracy_score(y_test, xgb_predictions)\n",
    "print(\"XGBoost Classifier Accuracy:\", xgb_accuracy)\n",
    "print(\"Classification Report:\")\n",
    "print(classification_report(y_test, xgb_predictions))"
   ]
  },
  {
   "cell_type": "code",
   "execution_count": 42,
   "id": "c6ef1b22",
   "metadata": {},
   "outputs": [
    {
     "name": "stdout",
     "output_type": "stream",
     "text": [
      "Decision Tree Accuracy: 0.625\n",
      "Classification Report:\n",
      "              precision    recall  f1-score   support\n",
      "\n",
      "           0       0.78      0.64      0.70        11\n",
      "           1       0.43      0.60      0.50         5\n",
      "\n",
      "    accuracy                           0.62        16\n",
      "   macro avg       0.60      0.62      0.60        16\n",
      "weighted avg       0.67      0.62      0.64        16\n",
      "\n"
     ]
    }
   ],
   "source": [
    "# Model 4: Decision Tree model\n",
    "decision_tree_model = DecisionTreeClassifier(random_state=42)\n",
    "decision_tree_model.fit(X_train, y_train)\n",
    "\n",
    "# Predictions\n",
    "decision_tree_predictions = decision_tree_model.predict(X_test)\n",
    "\n",
    "# Evaluate Decision Tree model\n",
    "decision_tree_accuracy = accuracy_score(y_test, decision_tree_predictions)\n",
    "print(\"Decision Tree Accuracy:\", decision_tree_accuracy)\n",
    "print(\"Classification Report:\")\n",
    "print(classification_report(y_test, decision_tree_predictions))"
   ]
  },
  {
   "cell_type": "code",
   "execution_count": 45,
   "id": "46e309eb",
   "metadata": {},
   "outputs": [
    {
     "name": "stdout",
     "output_type": "stream",
     "text": [
      "Model Accuracies:\n",
      "Logistic Regression: 0.69\n",
      "Decision Trees: 0.62\n",
      "Random Forest: 0.81\n",
      "XGBoost: 0.62\n",
      "The best model is: Random Forest with an accuracy of 0.81\n"
     ]
    },
    {
     "data": {
      "text/html": [
       "<div>\n",
       "<style scoped>\n",
       "    .dataframe tbody tr th:only-of-type {\n",
       "        vertical-align: middle;\n",
       "    }\n",
       "\n",
       "    .dataframe tbody tr th {\n",
       "        vertical-align: top;\n",
       "    }\n",
       "\n",
       "    .dataframe thead th {\n",
       "        text-align: right;\n",
       "    }\n",
       "</style>\n",
       "<table border=\"1\" class=\"dataframe\">\n",
       "  <thead>\n",
       "    <tr style=\"text-align: right;\">\n",
       "      <th></th>\n",
       "      <th>Model</th>\n",
       "      <th>Accuracy</th>\n",
       "    </tr>\n",
       "  </thead>\n",
       "  <tbody>\n",
       "    <tr>\n",
       "      <th>0</th>\n",
       "      <td>Random Forest</td>\n",
       "      <td>0.8125</td>\n",
       "    </tr>\n",
       "    <tr>\n",
       "      <th>1</th>\n",
       "      <td>Logistic Regression</td>\n",
       "      <td>0.6875</td>\n",
       "    </tr>\n",
       "    <tr>\n",
       "      <th>2</th>\n",
       "      <td>Decision Trees</td>\n",
       "      <td>0.6250</td>\n",
       "    </tr>\n",
       "    <tr>\n",
       "      <th>3</th>\n",
       "      <td>XGBoost</td>\n",
       "      <td>0.6250</td>\n",
       "    </tr>\n",
       "  </tbody>\n",
       "</table>\n",
       "</div>"
      ],
      "text/plain": [
       "                 Model  Accuracy\n",
       "0        Random Forest    0.8125\n",
       "1  Logistic Regression    0.6875\n",
       "2       Decision Trees    0.6250\n",
       "3              XGBoost    0.6250"
      ]
     },
     "execution_count": 45,
     "metadata": {},
     "output_type": "execute_result"
    }
   ],
   "source": [
    "# Compare model accuracies\n",
    "model_accuracies = {\n",
    "    \"Logistic Regression\": logreg_accuracy,\n",
    "    \"Decision Trees\": decision_tree_accuracy,\n",
    "    \"Random Forest\": random_forest_accuracy,\n",
    "    \"XGBoost\": xgb_accuracy\n",
    "}\n",
    "\n",
    "best_model = max(model_accuracies, key=model_accuracies.get)\n",
    "print(\"Model Accuracies:\")\n",
    "for model, accuracy in model_accuracies.items():\n",
    "    print(f\"{model}: {accuracy:.2f}\")\n",
    "\n",
    "print(f\"The best model is: {best_model} with an accuracy of {model_accuracies[best_model]:.2f}\")\n",
    "\n",
    "# Create a DataFrame\n",
    "accuracy_df = pd.DataFrame({'Model': models, 'Accuracy': accuracies})\n",
    "\n",
    "# Sort the DataFrame by accuracy in descending order\n",
    "accuracy_df = accuracy_df.sort_values(by='Accuracy', ascending=False).reset_index(drop=True)\n",
    "\n",
    "# Print the DataFrame\n",
    "accuracy_df\n"
   ]
  },
  {
   "cell_type": "code",
   "execution_count": 44,
   "id": "a0648f1c",
   "metadata": {},
   "outputs": [
    {
     "data": {
      "image/png": "[encoded data removed]",
      "text/plain": [
       "<Figure size 1000x500 with 1 Axes>"
      ]
     },
     "metadata": {},
     "output_type": "display_data"
    }
   ],
   "source": [
    "# List of models and their respective accuracies\n",
    "models = ['Logistic Regression', 'Decision Trees', 'Random Forest', 'XGBoost']\n",
    "accuracies = [logreg_accuracy, decision_tree_accuracy, random_forest_accuracy, xgb_accuracy]\n",
    "\n",
    "# Plotting the accuracies\n",
    "plt.figure(figsize=(10, 5))\n",
    "plt.bar(models, accuracies,color='lightgreen')\n",
    "plt.xlabel('Models')\n",
    "plt.ylabel('Accuracy')\n",
    "plt.title('Model Comparison based on Accuracy')\n",
    "plt.ylim(0, 1)  # Set y-axis limit between 0 and 1 for accuracy percentage\n",
    "plt.xticks(rotation=45)  # Rotate model names for better visibility\n",
    "plt.show()"
   ]
  },
  {
   "cell_type": "markdown",
   "id": "88c0322a",
   "metadata": {},
   "source": [
    "# Conclusion"
   ]
  },
  {
   "cell_type": "markdown",
   "id": "30e09f66",
   "metadata": {},
   "source": [
    "##### \"In the analysis of kidney stone prediction using urine analysis data, we compared the performance of several machine learning models.\"\n",
    "- From the results, it is clear that the Random Forest model outperformed the other models with an accuracy of 0.81, making it the best model for predicting kidney stones. \n",
    "- While Logistic Regression serves as a straightforward baseline model, it demonstrated a lower accuracy of 0.68. \n",
    "- Decision Trees and XGBoost, both tree-based methods, achieved accuracies of 0.62.\n",
    "- The selection of the Random Forest model as the best performer suggests its suitability for practical applications in kidney stone prediction based on urine analysis. "
   ]
  }
 ],
 "metadata": {
  "kernelspec": {
   "display_name": "Python 3 (ipykernel)",
   "language": "python",
   "name": "python3"
  },
  "language_info": {
   "codemirror_mode": {
    "name": "ipython",
    "version": 3
   },
   "file_extension": ".py",
   "mimetype": "text/x-python",
   "name": "python",
   "nbconvert_exporter": "python",
   "pygments_lexer": "ipython3",
   "version": "3.9.13"
  }
 },
 "nbformat": 4,
 "nbformat_minor": 5
}
